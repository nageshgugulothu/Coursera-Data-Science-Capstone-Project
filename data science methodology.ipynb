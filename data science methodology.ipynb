{
    "cells": [
        {
            "metadata": {
                "collapsed": true
            },
            "cell_type": "markdown",
            "source": "# Data Science Methodology"
        },
        {
            "metadata": {},
            "cell_type": "markdown",
            "source": "I have chosen as topic for this task the application of data science in the field of credit cards. The reason behind this choice is that it is related with my finance Knowledge."
        },
        {
            "metadata": {},
            "cell_type": "markdown",
            "source": "### 1) Describe the problem, related to the topic you selected."
        },
        {
            "metadata": {},
            "cell_type": "markdown",
            "source": "### 2) Phrase the problem as a question to be answered using data"
        },
        {
            "metadata": {},
            "cell_type": "markdown",
            "source": "the main problem for banks regarding credit cards is that they have to create a model to know to who they can provide them. Certain clients will not be feasible as they do not have the economic strenght to back up this service."
        },
        {
            "metadata": {},
            "cell_type": "markdown",
            "source": " Can we automatically determine if a client is suitable to obtain a credit card?"
        },
        {
            "metadata": {},
            "cell_type": "markdown",
            "source": "### 1. Analytic Approach"
        },
        {
            "metadata": {},
            "cell_type": "markdown",
            "source": "### 2. Data Requirements"
        },
        {
            "metadata": {},
            "cell_type": "markdown",
            "source": "### 3. Data Collection"
        },
        {
            "metadata": {},
            "cell_type": "markdown",
            "source": "### 4. Data Understanding and Preparation"
        },
        {
            "metadata": {},
            "cell_type": "markdown",
            "source": "### 5. Modeling and Evaluation"
        },
        {
            "metadata": {},
            "cell_type": "markdown",
            "source": "1: Analytic Approach: As the problem requires a yes/no answer we will use a classification model\n\n2: Data Requirements: To create the classification model we will require information regarding the bank clients. This info should include personal data of the client and should include the ones that defaulted and the one that paid.\n\n3: Data Collection: We would use techiques like descriptive statistics and data evalution should be implemented in this phase to make sure that we have useful data for our model.\n\n4: Data Undestanding and Preparation: In this step we need to evaluate the different variables of our data in order to undestant it better. For example we would calculate univariate statistics, such as mean or median and the correlation between variables. So we need to evaluate the quality of the data. In the data preparation phase we have to prepare the data in an specific way depending on the model.\n\n5: Modeling and Evaluation: Lastly we create a classification model, evaluate the outcome and perform the corresponding changes untill we have a suitable model."
        },
        {
            "metadata": {},
            "cell_type": "code",
            "source": "",
            "execution_count": null,
            "outputs": []
        }
    ],
    "metadata": {
        "kernelspec": {
            "name": "python3",
            "display_name": "Python 3.6",
            "language": "python"
        },
        "language_info": {
            "name": "python",
            "version": "3.6.9",
            "mimetype": "text/x-python",
            "codemirror_mode": {
                "name": "ipython",
                "version": 3
            },
            "pygments_lexer": "ipython3",
            "nbconvert_exporter": "python",
            "file_extension": ".py"
        }
    },
    "nbformat": 4,
    "nbformat_minor": 1
}